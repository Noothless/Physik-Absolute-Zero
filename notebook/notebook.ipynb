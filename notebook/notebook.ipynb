{
 "cells": [
  {
   "cell_type": "code",
   "execution_count": 69,
   "metadata": {},
   "outputs": [],
   "source": [
    "import matplotlib as plt\n",
    "import numpy as np\n",
    "import pandas as pd\n",
    "import math"
   ]
  },
  {
   "cell_type": "code",
   "execution_count": 70,
   "metadata": {},
   "outputs": [
    {
     "name": "stdout",
     "output_type": "stream",
     "text": [
      "    U   t   n\n",
      "0  90  10  20\n"
     ]
    }
   ],
   "source": [
    "data = pd.read_csv('data.csv', sep=';')\n",
    "\n",
    "print(data)"
   ]
  },
  {
   "cell_type": "code",
   "execution_count": 71,
   "metadata": {},
   "outputs": [
    {
     "name": "stdout",
     "output_type": "stream",
     "text": [
      "709.1448393782383\n",
      "26712.635402590673\n"
     ]
    }
   ],
   "source": [
    "s_p1 = [97.45, 95818.8]\n",
    "s_p2 = [-37.65, 13.3322]\n",
    "\n",
    "s_slope = (s_p1[1] - s_p2[1])/(s_p1[0] - s_p2[0])\n",
    "print(s_slope)\n",
    "\n",
    "p_0 = s_p2[1] - s_slope*s_p2[0]\n",
    "print(p_0)\n",
    "\n",
    "def calc_pressure(u):\n",
    "    return p_0 + u*s_slope"
   ]
  },
  {
   "cell_type": "code",
   "execution_count": 72,
   "metadata": {},
   "outputs": [],
   "source": [
    "M_K = [98.323, 96.96]\n",
    "M_E = [0.0, 59.54]\n",
    "\n",
    "M_K2 = [98.323, 95.64]\n",
    "M_E2 = [0.0, 60.78] #60.52"
   ]
  },
  {
   "cell_type": "code",
   "execution_count": 73,
   "metadata": {},
   "outputs": [
    {
     "name": "stdout",
     "output_type": "stream",
     "text": [
      "95471.31902870466 68935.11913917099\n",
      "94535.2478407254 69814.45874\n"
     ]
    }
   ],
   "source": [
    "P_K = calc_pressure(M_K[1])\n",
    "P_E = calc_pressure(M_E[1])\n",
    "print(P_K, P_E)\n",
    "\n",
    "P_K2 = calc_pressure(M_K2[1])\n",
    "P_E2 = calc_pressure(M_E2[1])\n",
    "print(P_K2, P_E2)"
   ]
  },
  {
   "cell_type": "code",
   "execution_count": 74,
   "metadata": {},
   "outputs": [],
   "source": [
    "def approx_t0(p_E, p_K, t_K):\n",
    "    return -p_E/(p_K - p_E)*t_K"
   ]
  },
  {
   "cell_type": "code",
   "execution_count": 75,
   "metadata": {},
   "outputs": [
    {
     "name": "stdout",
     "output_type": "stream",
     "text": [
      "-255.4211886907752 -277.67588642595535\n"
     ]
    }
   ],
   "source": [
    "t_01 = approx_t0(P_E, P_K, M_K[0])\n",
    "t_02 = approx_t0(P_E2, P_K2, M_K2[0])\n",
    "print(t_01, t_02)"
   ]
  },
  {
   "cell_type": "code",
   "execution_count": 76,
   "metadata": {},
   "outputs": [],
   "source": [
    "def calc_temperature(p_N, p_E, t0):\n",
    "    return (1-p_N/p_E)*t0"
   ]
  },
  {
   "cell_type": "code",
   "execution_count": 77,
   "metadata": {},
   "outputs": [
    {
     "name": "stdout",
     "output_type": "stream",
     "text": [
      "-198.58312772874564\n"
     ]
    }
   ],
   "source": [
    "M_N = [..., -9.98]\n",
    "P_N = calc_pressure(M_N[1])\n",
    "t_N = calc_temperature(P_N, P_E, t_02)\n",
    "print(t_N)"
   ]
  },
  {
   "cell_type": "code",
   "execution_count": 78,
   "metadata": {},
   "outputs": [
    {
     "name": "stdout",
     "output_type": "stream",
     "text": [
      "-272.31266667436404\n"
     ]
    }
   ],
   "source": [
    "t_L = 24\n",
    "eps = 1*math.pow(10,-3)\n",
    "gamm = 1*math.pow(10,-5)\n",
    "\n",
    "a = (1 + eps)*P_E2 - (1 + eps + gamm*M_K[0])*P_K2\n",
    "b = eps*(P_K2 - P_E2)*M_K[0] + (1 + gamm*M_K[0])*P_K2*t_L - P_E*(t_L + M_K[0])\n",
    "c = P_E2*t_L*M_K[0]\n",
    "\n",
    "t_0a = (-b + math.sqrt(math.pow(b, 2) - 4*a*c))/2/a\n",
    "print(t_0a)\n"
   ]
  },
  {
   "cell_type": "code",
   "execution_count": 79,
   "metadata": {},
   "outputs": [
    {
     "name": "stdout",
     "output_type": "stream",
     "text": [
      "-195.92414859772379\n"
     ]
    }
   ],
   "source": [
    "A = P_E2/(0 - t_0a) + eps*(P_E - P_N)/(t_L - t_0a)\n",
    "t_Na = (A*t_0a + P_N)/(A - gamm*P_N)\n",
    "print(t_Na)"
   ]
  }
 ],
 "metadata": {
  "kernelspec": {
   "display_name": "Python 3",
   "language": "python",
   "name": "python3"
  },
  "language_info": {
   "codemirror_mode": {
    "name": "ipython",
    "version": 3
   },
   "file_extension": ".py",
   "mimetype": "text/x-python",
   "name": "python",
   "nbconvert_exporter": "python",
   "pygments_lexer": "ipython3",
   "version": "3.11.2"
  },
  "orig_nbformat": 4
 },
 "nbformat": 4,
 "nbformat_minor": 2
}
