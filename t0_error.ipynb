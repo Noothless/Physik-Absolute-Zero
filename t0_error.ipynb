{
 "cells": [
  {
   "cell_type": "code",
   "execution_count": 24,
   "metadata": {},
   "outputs": [
    {
     "name": "stdout",
     "output_type": "stream",
     "text": [
      "-53668273286.85942 415730163.4529606\n",
      "6.52591138961371\n"
     ]
    }
   ],
   "source": [
    "import numpy as np\n",
    "\n",
    "epsilon = 1e-3\n",
    "gamma = 1e-5\n",
    "\n",
    "pe = 69814.46\n",
    "pk = 95535.24\n",
    "dlta_pe = 20 # Insert error here\n",
    "dlta_pk = 20 # Insert error here\n",
    "tl = 24\n",
    "tk = 98.323\n",
    "\n",
    "a = (1 + epsilon) * pe - (1 + epsilon + gamma * tk) * pk\n",
    "b = epsilon * (pk - pe) * tk + (1 + gamma + tk) * pk * tl - pe * (tl + tk)\n",
    "c = pe * tl * tk\n",
    "\n",
    "del_a_pk = -1 - epsilon - gamma * tk\n",
    "del_b_pk = epsilon * tk + tl * (1 + gamma * tk)\n",
    "del_c_pk = 0\n",
    "del_a_pe = 1 + epsilon\n",
    "del_b_pe = - epsilon * tk - tl - tk\n",
    "del_c_pe = tl * tk\n",
    "\n",
    "#del_t0_pe = (2 * a * (-del_b_pe \\pm np.sqrt(del_b_pe * 2 * b - 4 * (del_a_pe * c + a * del_c_pe))) - 2 * del_a_pe(-b \\pm np.sqrt(np.square(b) - 4 * a * c)))/ (4 * np.square(a))\n",
    "#del_t0_pk = (2 * a * (-del_b_pk \\pm np.sqrt(del_b_pk * 2 * b - 4 * (del_a_pk * c + a * del_c_pk))) - 2 * del_a_pk(-b \\pm np.sqrt(np.square(b) - 4 * a * c)))/ (4 * np.square(a))\n",
    "del_t0_pe_PP = (2 * a * (-del_b_pe + 1/np.sqrt(np.square(b) - 4 * a * c) * (del_b_pe - 4 * (del_a_pe * c + a * del_c_pe))) - 2 * del_a_pe * (-b + np.sqrt(np.square(b) - 4 * a * c)))/ (4 * np.square(a))\n",
    "del_t0_pe_PM = (2 * a * (-del_b_pe + 1/np.sqrt(np.square(b) - 4 * a * c) * (del_b_pe - 4 * (del_a_pe * c + a * del_c_pe))) - 2 * del_a_pe * (-b - np.sqrt(np.square(b) - 4 * a * c)))/ (4 * np.square(a))\n",
    "del_t0_pe_MP = (2 * a * (-del_b_pe - 1/np.sqrt(np.square(b) - 4 * a * c) * (del_b_pe - 4 * (del_a_pe * c + a * del_c_pe))) - 2 * del_a_pe * (-b + np.sqrt(np.square(b) - 4 * a * c)))/ (4 * np.square(a))\n",
    "del_t0_pe_MM = (2 * a * (-del_b_pe - 1/np.sqrt(np.square(b) - 4 * a * c) * (del_b_pe - 4 * (del_a_pe * c + a * del_c_pe))) - 2 * del_a_pe * (-b - np.sqrt(np.square(b) - 4 * a * c)))/ (4 * np.square(a))\n",
    "\n",
    "del_t0_pk_PP = (2 * a * (-del_b_pk + 1/np.sqrt(np.square(b) - 4 * a * c) * (del_b_pk - 4 * (del_a_pk * c + a * del_c_pk))) - 2 * del_a_pk * (-b + np.sqrt(np.square(b) - 4 * a * c)))/ (4 * np.square(a))\n",
    "del_t0_pk_PM = (2 * a * (-del_b_pk + 1/np.sqrt(np.square(b) - 4 * a * c) * (del_b_pk - 4 * (del_a_pk * c + a * del_c_pk))) - 2 * del_a_pk * (-b - np.sqrt(np.square(b) - 4 * a * c)))/ (4 * np.square(a))\n",
    "del_t0_pk_MP = (2 * a * (-del_b_pk - 1/np.sqrt(np.square(b) - 4 * a * c) * (del_b_pk - 4 * (del_a_pk * c + a * del_c_pk))) - 2 * del_a_pk * (-b + np.sqrt(np.square(b) - 4 * a * c)))/ (4 * np.square(a))\n",
    "del_t0_pk_MM = (2 * a * (-del_b_pk - 1/np.sqrt(np.square(b) - 4 * a * c) * (del_b_pk - 4 * (del_a_pk * c + a * del_c_pk))) - 2 * del_a_pk * (-b - np.sqrt(np.square(b) - 4 * a * c)))/ (4 * np.square(a))\n",
    "\n",
    "print(del_t0_pe_PP, del_t0_pe_PM, del_t0_pe_MP, del_t0_pe_MM)\n",
    "print(del_t0_pk_PP, del_t0_pk_PM, del_t0_pk_MP, del_t0_pk_MM)\n",
    "\n",
    "del_t0_pe = max(del_t0_pe_PP, del_t0_pe_PM, del_t0_pe_MP, del_t0_pe_MM)\n",
    "del_t0_pk = max(del_t0_pk_PP, del_t0_pk_PM, del_t0_pk_MP, del_t0_pk_MM)\n",
    "\n",
    "dlta_t0 = np.sqrt(np.square(del_t0_pk * dlta_pk) + np.square(del_t0_pe * dlta_pe))\n",
    "print(dlta_t0)"
   ]
  }
 ],
 "metadata": {
  "kernelspec": {
   "display_name": "Python 3",
   "language": "python",
   "name": "python3"
  },
  "language_info": {
   "codemirror_mode": {
    "name": "ipython",
    "version": 3
   },
   "file_extension": ".py",
   "mimetype": "text/x-python",
   "name": "python",
   "nbconvert_exporter": "python",
   "pygments_lexer": "ipython3",
   "version": "3.10.6"
  },
  "orig_nbformat": 4
 },
 "nbformat": 4,
 "nbformat_minor": 2
}
