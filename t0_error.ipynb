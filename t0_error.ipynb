{
 "cells": [
  {
   "cell_type": "code",
   "execution_count": 5,
   "metadata": {},
   "outputs": [],
   "source": [
    "import numpy as np\n",
    "import math"
   ]
  },
  {
   "cell_type": "code",
   "execution_count": 6,
   "metadata": {},
   "outputs": [
    {
     "name": "stdout",
     "output_type": "stream",
     "text": [
      "5.312681962486585\n",
      "228.64400254275108\n"
     ]
    }
   ],
   "source": [
    "P_L = 95818.8\n",
    "P_T = 13.3322\n",
    "U_L = 97.45\n",
    "U_T = -37.65\n",
    "\n",
    "C = 709.1448393782383\n",
    "dlta_u = 0.15508 #mV\n",
    "dlta_pl = 0 #true?\n",
    "dlta_pt = 13.22 #Pa\n",
    "\n",
    "delta_C = math.sqrt(math.pow(dlta_pl/(U_L - U_T), 2) + math.pow(-1/(U_L - U_T)*dlta_pt, 2) + math.pow(-(P_L - P_T)/math.pow((U_L-U_T),2)*dlta_u, 2) + math.pow((P_L-P_T)/math.pow(U_L-U_T,2), 2))\n",
    "print(delta_C)\n",
    "\n",
    "delta_P0 = math.sqrt(math.pow(-U_T*delta_C, 2) + math.pow(-C*dlta_u, 2) + math.pow(dlta_pt,2))\n",
    "print(delta_P0)\n",
    "\n",
    "def calcPError(U):\n",
    "    return math.sqrt(math.pow(U*delta_C, 2) + math.pow(C*dlta_u, 2) + math.pow(delta_P0, 2))"
   ]
  },
  {
   "cell_type": "code",
   "execution_count": 7,
   "metadata": {},
   "outputs": [
    {
     "name": "stdout",
     "output_type": "stream",
     "text": [
      "410.6579070853993 567.9286864390941\n"
     ]
    }
   ],
   "source": [
    "M_K2 = [98.323, 95.64]\n",
    "M_E2 = [0.0, 60.78]\n",
    "\n",
    "dlta_pe = calcPError(M_E2[1])\n",
    "dlta_pk = calcPError(M_K2[1])\n",
    "print(dlta_pe, dlta_pk)"
   ]
  },
  {
   "cell_type": "code",
   "execution_count": 8,
   "metadata": {},
   "outputs": [
    {
     "name": "stdout",
     "output_type": "stream",
     "text": [
      "-0.0024554997080432177 0.3493818296494129 -0.0025344400655405263 0.34930288929191555\n",
      "0.0004549315084910568 -0.3517279892748832 0.0005775201900689146 -0.35160540059330536\n",
      "Delta t0 = 1.0409443627814656\n"
     ]
    }
   ],
   "source": [
    "epsilon = 1e-3\n",
    "gamma = 1e-5\n",
    "\n",
    "pe = 69814.45874\n",
    "pk = 94535.2478407254\n",
    "\n",
    "tl = 24\n",
    "tk = 98.323\n",
    "\n",
    "# coefficients of quadratic function for t0\n",
    "a = (1 + epsilon) * pe - (1 + epsilon + gamma * tk) * pk\n",
    "b = epsilon * (pk - pe) * tk + (1 + gamma + tk) * pk * tl - pe * (tl + tk)\n",
    "c = pe * tl * tk\n",
    "\n",
    "# partial derivatives of coeffitients\n",
    "del_a_pk = -1 - epsilon - gamma * tk\n",
    "del_b_pk = epsilon * tk + tl * (1 + gamma * tk)\n",
    "del_c_pk = 0\n",
    "del_a_pe = 1 + epsilon\n",
    "del_b_pe = - epsilon * tk - tl - tk\n",
    "del_c_pe = tl * tk\n",
    "\n",
    "# partial derivative of t0 nach pe\n",
    "del_t0_pe_PP = (2 * a * (-del_b_pe + 1/np.sqrt(np.square(b) - 4 * a * c) * (del_b_pe - 4 * (del_a_pe * c + a * del_c_pe))) - 2 * del_a_pe * (-b + np.sqrt(np.square(b) - 4 * a * c)))/ (4 * np.square(a))\n",
    "# del_t0_pe_PM = (2 * a * (-del_b_pe + 1/np.sqrt(np.square(b) - 4 * a * c) * (del_b_pe - 4 * (del_a_pe * c + a * del_c_pe))) - 2 * del_a_pe * (-b - np.sqrt(np.square(b) - 4 * a * c)))/ (4 * np.square(a))\n",
    "# del_t0_pe_MP = (2 * a * (-del_b_pe - 1/np.sqrt(np.square(b) - 4 * a * c) * (del_b_pe - 4 * (del_a_pe * c + a * del_c_pe))) - 2 * del_a_pe * (-b + np.sqrt(np.square(b) - 4 * a * c)))/ (4 * np.square(a))\n",
    "# del_t0_pe_MM = (2 * a * (-del_b_pe - 1/np.sqrt(np.square(b) - 4 * a * c) * (del_b_pe - 4 * (del_a_pe * c + a * del_c_pe))) - 2 * del_a_pe * (-b - np.sqrt(np.square(b) - 4 * a * c)))/ (4 * np.square(a))\n",
    "\n",
    "# partial derivative of t0 nach pk\n",
    "del_t0_pk_PP = (2 * a * (-del_b_pk + 1/np.sqrt(np.square(b) - 4 * a * c) * (del_b_pk - 4 * (del_a_pk * c + a * del_c_pk))) - 2 * del_a_pk * (-b + np.sqrt(np.square(b) - 4 * a * c)))/ (4 * np.square(a))\n",
    "# del_t0_pk_PM = (2 * a * (-del_b_pk + 1/np.sqrt(np.square(b) - 4 * a * c) * (del_b_pk - 4 * (del_a_pk * c + a * del_c_pk))) - 2 * del_a_pk * (-b - np.sqrt(np.square(b) - 4 * a * c)))/ (4 * np.square(a))\n",
    "# del_t0_pk_MP = (2 * a * (-del_b_pk - 1/np.sqrt(np.square(b) - 4 * a * c) * (del_b_pk - 4 * (del_a_pk * c + a * del_c_pk))) - 2 * del_a_pk * (-b + np.sqrt(np.square(b) - 4 * a * c)))/ (4 * np.square(a))\n",
    "# del_t0_pk_MM = (2 * a * (-del_b_pk - 1/np.sqrt(np.square(b) - 4 * a * c) * (del_b_pk - 4 * (del_a_pk * c + a * del_c_pk))) - 2 * del_a_pk * (-b - np.sqrt(np.square(b) - 4 * a * c)))/ (4 * np.square(a))\n",
    "\n",
    "print(del_t0_pe_PP, del_t0_pe_PM, del_t0_pe_MP, del_t0_pe_MM)\n",
    "print(del_t0_pk_PP, del_t0_pk_PM, del_t0_pk_MP, del_t0_pk_MM)\n",
    "\n",
    "# take maximum fo partial derivative of t0 to get maximum error\n",
    "# del_t0_pe = max(del_t0_pe_PP, del_t0_pe_PM, del_t0_pe_MP, del_t0_pe_MM)\n",
    "# del_t0_pk = max(del_t0_pk_PP, del_t0_pk_PM, del_t0_pk_MP, del_t0_pk_MM)\n",
    "\n",
    "del_t0_pe = del_t0_pe_PP\n",
    "del_t0_pk = del_t0_pk_PP\n",
    "\n",
    "# compute delta t0 using gaussian error propagation\n",
    "dlta_t0 = np.sqrt(np.square(del_t0_pk * dlta_pk) + np.square(del_t0_pe * dlta_pe))\n",
    "print(\"Delta t0 =\", dlta_t0)"
   ]
  },
  {
   "cell_type": "code",
   "execution_count": null,
   "metadata": {},
   "outputs": [],
   "source": []
  }
 ],
 "metadata": {
  "kernelspec": {
   "display_name": "Python 3",
   "language": "python",
   "name": "python3"
  },
  "language_info": {
   "codemirror_mode": {
    "name": "ipython",
    "version": 3
   },
   "file_extension": ".py",
   "mimetype": "text/x-python",
   "name": "python",
   "nbconvert_exporter": "python",
   "pygments_lexer": "ipython3",
   "version": "3.10.10"
  },
  "orig_nbformat": 4,
  "vscode": {
   "interpreter": {
    "hash": "aa82987a71ca0339a52998cd22613b0c002bda8349fa32a0cb67ceec3936a2bf"
   }
  }
 },
 "nbformat": 4,
 "nbformat_minor": 2
}
